{
 "cells": [
  {
   "cell_type": "code",
   "execution_count": 8,
   "id": "708c5b8a",
   "metadata": {},
   "outputs": [
    {
     "name": "stdout",
     "output_type": "stream",
     "text": [
      "✅ Filter selesai → jawa-timur-kabkota.geojson (total 38 kab/kota)\n"
     ]
    }
   ],
   "source": [
    "import json\n",
    "\n",
    "# Baca file GeoJSON seluruh kabupaten/kota\n",
    "with open(\"all_kabkota_ind.geojson\", \"r\", encoding=\"utf-8\") as f:\n",
    "    data = json.load(f)\n",
    "\n",
    "# Pastikan file punya key 'features'\n",
    "if \"features\" not in data:\n",
    "    raise ValueError(\"File tidak memiliki key 'features'. Pastikan ini GeoJSON, bukan TopoJSON.\")\n",
    "\n",
    "# Filter hanya kabupaten/kota di Jawa Timur (case-insensitive)\n",
    "jatim_features = [\n",
    "    feat for feat in data[\"features\"]\n",
    "    if feat.get(\"properties\")\n",
    "    and str(feat[\"properties\"].get(\"prov_name\", \"\")).strip().lower() == \"jawa timur\"\n",
    "]\n",
    "\n",
    "# Bungkus jadi FeatureCollection\n",
    "jatim = {\n",
    "    \"type\": \"FeatureCollection\",\n",
    "    \"features\": jatim_features\n",
    "}\n",
    "\n",
    "# Simpan hasilnya\n",
    "with open(\"jawa-timur-kabkota.geojson\", \"w\", encoding=\"utf-8\") as f:\n",
    "    json.dump(jatim, f, ensure_ascii=False, indent=2)\n",
    "\n",
    "print(f\"✅ Filter selesai → jawa-timur-kabkota.geojson (total {len(jatim_features)} kab/kota)\")"
   ]
  }
 ],
 "metadata": {
  "kernelspec": {
   "display_name": "venv",
   "language": "python",
   "name": "python3"
  },
  "language_info": {
   "codemirror_mode": {
    "name": "ipython",
    "version": 3
   },
   "file_extension": ".py",
   "mimetype": "text/x-python",
   "name": "python",
   "nbconvert_exporter": "python",
   "pygments_lexer": "ipython3",
   "version": "3.10.11"
  }
 },
 "nbformat": 4,
 "nbformat_minor": 5
}
